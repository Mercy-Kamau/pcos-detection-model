{
 "cells": [
  {
   "cell_type": "code",
   "execution_count": 1,
   "metadata": {},
   "outputs": [
    {
     "ename": "ModuleNotFoundError",
     "evalue": "No module named 'google.colab'",
     "output_type": "error",
     "traceback": [
      "\u001b[1;31m---------------------------------------------------------------------------\u001b[0m",
      "\u001b[1;31mModuleNotFoundError\u001b[0m                       Traceback (most recent call last)",
      "Cell \u001b[1;32mIn[1], line 1\u001b[0m\n\u001b[1;32m----> 1\u001b[0m \u001b[39mfrom\u001b[39;00m \u001b[39mgoogle\u001b[39;00m\u001b[39m.\u001b[39;00m\u001b[39mcolab\u001b[39;00m \u001b[39mimport\u001b[39;00m drive\n\u001b[0;32m      2\u001b[0m drive\u001b[39m.\u001b[39mmount(\u001b[39m'\u001b[39m\u001b[39m/content/drive\u001b[39m\u001b[39m'\u001b[39m)\n",
      "\u001b[1;31mModuleNotFoundError\u001b[0m: No module named 'google.colab'"
     ]
    }
   ],
   "source": [
    "from google.colab import drive\n",
    "drive.mount('/content/drive')"
   ]
  },
  {
   "cell_type": "code",
   "execution_count": 2,
   "metadata": {},
   "outputs": [
    {
     "name": "stdout",
     "output_type": "stream",
     "text": [
      "Requirement already satisfied: tensorflow in c:\\users\\mercy\\desktop\\cherry blossom\\cherry\\lib\\site-packages (2.11.0)\n",
      "Requirement already satisfied: tensorflow-intel==2.11.0 in c:\\users\\mercy\\desktop\\cherry blossom\\cherry\\lib\\site-packages (from tensorflow) (2.11.0)\n",
      "Requirement already satisfied: opt-einsum>=2.3.2 in c:\\users\\mercy\\desktop\\cherry blossom\\cherry\\lib\\site-packages (from tensorflow-intel==2.11.0->tensorflow) (3.3.0)\n",
      "Requirement already satisfied: six>=1.12.0 in c:\\users\\mercy\\desktop\\cherry blossom\\cherry\\lib\\site-packages (from tensorflow-intel==2.11.0->tensorflow) (1.16.0)\n",
      "Requirement already satisfied: keras<2.12,>=2.11.0 in c:\\users\\mercy\\desktop\\cherry blossom\\cherry\\lib\\site-packages (from tensorflow-intel==2.11.0->tensorflow) (2.11.0)\n",
      "Requirement already satisfied: gast<=0.4.0,>=0.2.1 in c:\\users\\mercy\\desktop\\cherry blossom\\cherry\\lib\\site-packages (from tensorflow-intel==2.11.0->tensorflow) (0.4.0)\n",
      "Requirement already satisfied: h5py>=2.9.0 in c:\\users\\mercy\\desktop\\cherry blossom\\cherry\\lib\\site-packages (from tensorflow-intel==2.11.0->tensorflow) (3.7.0)\n",
      "Requirement already satisfied: tensorboard<2.12,>=2.11 in c:\\users\\mercy\\desktop\\cherry blossom\\cherry\\lib\\site-packages (from tensorflow-intel==2.11.0->tensorflow) (2.11.0)\n",
      "Requirement already satisfied: packaging in c:\\users\\mercy\\desktop\\cherry blossom\\cherry\\lib\\site-packages (from tensorflow-intel==2.11.0->tensorflow) (22.0)\n",
      "Requirement already satisfied: google-pasta>=0.1.1 in c:\\users\\mercy\\desktop\\cherry blossom\\cherry\\lib\\site-packages (from tensorflow-intel==2.11.0->tensorflow) (0.2.0)\n",
      "Requirement already satisfied: tensorflow-io-gcs-filesystem>=0.23.1 in c:\\users\\mercy\\desktop\\cherry blossom\\cherry\\lib\\site-packages (from tensorflow-intel==2.11.0->tensorflow) (0.28.0)\n",
      "Requirement already satisfied: libclang>=13.0.0 in c:\\users\\mercy\\desktop\\cherry blossom\\cherry\\lib\\site-packages (from tensorflow-intel==2.11.0->tensorflow) (14.0.6)\n",
      "Requirement already satisfied: flatbuffers>=2.0 in c:\\users\\mercy\\desktop\\cherry blossom\\cherry\\lib\\site-packages (from tensorflow-intel==2.11.0->tensorflow) (22.12.6)\n",
      "Requirement already satisfied: protobuf<3.20,>=3.9.2 in c:\\users\\mercy\\desktop\\cherry blossom\\cherry\\lib\\site-packages (from tensorflow-intel==2.11.0->tensorflow) (3.19.6)\n",
      "Requirement already satisfied: tensorflow-estimator<2.12,>=2.11.0 in c:\\users\\mercy\\desktop\\cherry blossom\\cherry\\lib\\site-packages (from tensorflow-intel==2.11.0->tensorflow) (2.11.0)\n",
      "Requirement already satisfied: termcolor>=1.1.0 in c:\\users\\mercy\\desktop\\cherry blossom\\cherry\\lib\\site-packages (from tensorflow-intel==2.11.0->tensorflow) (2.1.1)\n",
      "Requirement already satisfied: wrapt>=1.11.0 in c:\\users\\mercy\\desktop\\cherry blossom\\cherry\\lib\\site-packages (from tensorflow-intel==2.11.0->tensorflow) (1.14.1)\n",
      "Requirement already satisfied: astunparse>=1.6.0 in c:\\users\\mercy\\desktop\\cherry blossom\\cherry\\lib\\site-packages (from tensorflow-intel==2.11.0->tensorflow) (1.6.3)\n",
      "Requirement already satisfied: grpcio<2.0,>=1.24.3 in c:\\users\\mercy\\desktop\\cherry blossom\\cherry\\lib\\site-packages (from tensorflow-intel==2.11.0->tensorflow) (1.51.1)\n",
      "Requirement already satisfied: numpy>=1.20 in c:\\users\\mercy\\desktop\\cherry blossom\\cherry\\lib\\site-packages (from tensorflow-intel==2.11.0->tensorflow) (1.23.5)\n",
      "Requirement already satisfied: absl-py>=1.0.0 in c:\\users\\mercy\\desktop\\cherry blossom\\cherry\\lib\\site-packages (from tensorflow-intel==2.11.0->tensorflow) (1.3.0)\n",
      "Requirement already satisfied: typing-extensions>=3.6.6 in c:\\users\\mercy\\desktop\\cherry blossom\\cherry\\lib\\site-packages (from tensorflow-intel==2.11.0->tensorflow) (4.4.0)\n",
      "Requirement already satisfied: setuptools in c:\\users\\mercy\\desktop\\cherry blossom\\cherry\\lib\\site-packages (from tensorflow-intel==2.11.0->tensorflow) (49.2.1)\n",
      "Requirement already satisfied: wheel<1.0,>=0.23.0 in c:\\users\\mercy\\desktop\\cherry blossom\\cherry\\lib\\site-packages (from astunparse>=1.6.0->tensorflow-intel==2.11.0->tensorflow) (0.38.4)\n",
      "Requirement already satisfied: werkzeug>=1.0.1 in c:\\users\\mercy\\desktop\\cherry blossom\\cherry\\lib\\site-packages (from tensorboard<2.12,>=2.11->tensorflow-intel==2.11.0->tensorflow) (2.2.2)\n",
      "Requirement already satisfied: tensorboard-data-server<0.7.0,>=0.6.0 in c:\\users\\mercy\\desktop\\cherry blossom\\cherry\\lib\\site-packages (from tensorboard<2.12,>=2.11->tensorflow-intel==2.11.0->tensorflow) (0.6.1)\n",
      "Requirement already satisfied: markdown>=2.6.8 in c:\\users\\mercy\\desktop\\cherry blossom\\cherry\\lib\\site-packages (from tensorboard<2.12,>=2.11->tensorflow-intel==2.11.0->tensorflow) (3.4.1)\n",
      "Requirement already satisfied: google-auth-oauthlib<0.5,>=0.4.1 in c:\\users\\mercy\\desktop\\cherry blossom\\cherry\\lib\\site-packages (from tensorboard<2.12,>=2.11->tensorflow-intel==2.11.0->tensorflow) (0.4.6)\n",
      "Requirement already satisfied: tensorboard-plugin-wit>=1.6.0 in c:\\users\\mercy\\desktop\\cherry blossom\\cherry\\lib\\site-packages (from tensorboard<2.12,>=2.11->tensorflow-intel==2.11.0->tensorflow) (1.8.1)\n",
      "Requirement already satisfied: requests<3,>=2.21.0 in c:\\users\\mercy\\desktop\\cherry blossom\\cherry\\lib\\site-packages (from tensorboard<2.12,>=2.11->tensorflow-intel==2.11.0->tensorflow) (2.28.1)\n",
      "Requirement already satisfied: google-auth<3,>=1.6.3 in c:\\users\\mercy\\desktop\\cherry blossom\\cherry\\lib\\site-packages (from tensorboard<2.12,>=2.11->tensorflow-intel==2.11.0->tensorflow) (2.15.0)\n",
      "Requirement already satisfied: rsa<5,>=3.1.4 in c:\\users\\mercy\\desktop\\cherry blossom\\cherry\\lib\\site-packages (from google-auth<3,>=1.6.3->tensorboard<2.12,>=2.11->tensorflow-intel==2.11.0->tensorflow) (4.9)\n",
      "Requirement already satisfied: pyasn1-modules>=0.2.1 in c:\\users\\mercy\\desktop\\cherry blossom\\cherry\\lib\\site-packages (from google-auth<3,>=1.6.3->tensorboard<2.12,>=2.11->tensorflow-intel==2.11.0->tensorflow) (0.2.8)\n",
      "Requirement already satisfied: cachetools<6.0,>=2.0.0 in c:\\users\\mercy\\desktop\\cherry blossom\\cherry\\lib\\site-packages (from google-auth<3,>=1.6.3->tensorboard<2.12,>=2.11->tensorflow-intel==2.11.0->tensorflow) (5.2.0)\n",
      "Requirement already satisfied: requests-oauthlib>=0.7.0 in c:\\users\\mercy\\desktop\\cherry blossom\\cherry\\lib\\site-packages (from google-auth-oauthlib<0.5,>=0.4.1->tensorboard<2.12,>=2.11->tensorflow-intel==2.11.0->tensorflow) (1.3.1)\n",
      "Requirement already satisfied: importlib-metadata>=4.4 in c:\\users\\mercy\\desktop\\cherry blossom\\cherry\\lib\\site-packages (from markdown>=2.6.8->tensorboard<2.12,>=2.11->tensorflow-intel==2.11.0->tensorflow) (5.1.0)\n",
      "Requirement already satisfied: idna<4,>=2.5 in c:\\users\\mercy\\desktop\\cherry blossom\\cherry\\lib\\site-packages (from requests<3,>=2.21.0->tensorboard<2.12,>=2.11->tensorflow-intel==2.11.0->tensorflow) (3.4)\n",
      "Requirement already satisfied: certifi>=2017.4.17 in c:\\users\\mercy\\desktop\\cherry blossom\\cherry\\lib\\site-packages (from requests<3,>=2.21.0->tensorboard<2.12,>=2.11->tensorflow-intel==2.11.0->tensorflow) (2022.12.7)\n",
      "Requirement already satisfied: urllib3<1.27,>=1.21.1 in c:\\users\\mercy\\desktop\\cherry blossom\\cherry\\lib\\site-packages (from requests<3,>=2.21.0->tensorboard<2.12,>=2.11->tensorflow-intel==2.11.0->tensorflow) (1.26.13)\n",
      "Requirement already satisfied: charset-normalizer<3,>=2 in c:\\users\\mercy\\desktop\\cherry blossom\\cherry\\lib\\site-packages (from requests<3,>=2.21.0->tensorboard<2.12,>=2.11->tensorflow-intel==2.11.0->tensorflow) (2.1.1)\n",
      "Requirement already satisfied: MarkupSafe>=2.1.1 in c:\\users\\mercy\\desktop\\cherry blossom\\cherry\\lib\\site-packages (from werkzeug>=1.0.1->tensorboard<2.12,>=2.11->tensorflow-intel==2.11.0->tensorflow) (2.1.1)\n",
      "Requirement already satisfied: zipp>=0.5 in c:\\users\\mercy\\desktop\\cherry blossom\\cherry\\lib\\site-packages (from importlib-metadata>=4.4->markdown>=2.6.8->tensorboard<2.12,>=2.11->tensorflow-intel==2.11.0->tensorflow) (3.11.0)\n",
      "Requirement already satisfied: pyasn1<0.5.0,>=0.4.6 in c:\\users\\mercy\\desktop\\cherry blossom\\cherry\\lib\\site-packages (from pyasn1-modules>=0.2.1->google-auth<3,>=1.6.3->tensorboard<2.12,>=2.11->tensorflow-intel==2.11.0->tensorflow) (0.4.8)\n",
      "Requirement already satisfied: oauthlib>=3.0.0 in c:\\users\\mercy\\desktop\\cherry blossom\\cherry\\lib\\site-packages (from requests-oauthlib>=0.7.0->google-auth-oauthlib<0.5,>=0.4.1->tensorboard<2.12,>=2.11->tensorflow-intel==2.11.0->tensorflow) (3.2.2)\n",
      "Collecting tf-nightly\n",
      "  Downloading tf_nightly-2.12.0.dev20221213-cp38-cp38-win_amd64.whl (2.0 kB)\n",
      "Collecting tf-nightly-intel==2.12.0-dev20221213\n",
      "  Downloading tf_nightly_intel-2.12.0.dev20221213-cp38-cp38-win_amd64.whl (175.2 MB)\n",
      "     -------------------------------------- 175.2/175.2 MB 1.3 MB/s eta 0:00:00\n",
      "Requirement already satisfied: libclang>=13.0.0 in c:\\users\\mercy\\desktop\\cherry blossom\\cherry\\lib\\site-packages (from tf-nightly-intel==2.12.0-dev20221213->tf-nightly) (14.0.6)\n",
      "Requirement already satisfied: grpcio<2.0,>=1.24.3 in c:\\users\\mercy\\desktop\\cherry blossom\\cherry\\lib\\site-packages (from tf-nightly-intel==2.12.0-dev20221213->tf-nightly) (1.51.1)\n",
      "Requirement already satisfied: setuptools in c:\\users\\mercy\\desktop\\cherry blossom\\cherry\\lib\\site-packages (from tf-nightly-intel==2.12.0-dev20221213->tf-nightly) (49.2.1)\n",
      "Requirement already satisfied: astunparse>=1.6.0 in c:\\users\\mercy\\desktop\\cherry blossom\\cherry\\lib\\site-packages (from tf-nightly-intel==2.12.0-dev20221213->tf-nightly) (1.6.3)\n",
      "Requirement already satisfied: numpy>=1.20 in c:\\users\\mercy\\desktop\\cherry blossom\\cherry\\lib\\site-packages (from tf-nightly-intel==2.12.0-dev20221213->tf-nightly) (1.23.5)\n",
      "Collecting keras-nightly~=2.12.0.dev\n",
      "  Downloading keras_nightly-2.12.0.dev2022121308-py2.py3-none-any.whl (1.7 MB)\n",
      "     ---------------------------------------- 1.7/1.7 MB 994.8 kB/s eta 0:00:00\n",
      "Requirement already satisfied: flatbuffers>=2.0 in c:\\users\\mercy\\desktop\\cherry blossom\\cherry\\lib\\site-packages (from tf-nightly-intel==2.12.0-dev20221213->tf-nightly) (22.12.6)\n",
      "Collecting jax>=0.3.15\n",
      "  Downloading jax-0.4.1.tar.gz (1.2 MB)\n",
      "     ---------------------------------------- 1.2/1.2 MB 2.5 MB/s eta 0:00:00\n",
      "  Preparing metadata (setup.py): started\n",
      "  Preparing metadata (setup.py): finished with status 'done'\n",
      "Collecting tb-nightly~=2.12.0.a\n",
      "  Downloading tb_nightly-2.12.0a20221213-py3-none-any.whl (5.7 MB)\n",
      "     ---------------------------------------- 5.7/5.7 MB 1.3 MB/s eta 0:00:00\n",
      "Requirement already satisfied: wrapt>=1.11.0 in c:\\users\\mercy\\desktop\\cherry blossom\\cherry\\lib\\site-packages (from tf-nightly-intel==2.12.0-dev20221213->tf-nightly) (1.14.1)\n",
      "Requirement already satisfied: protobuf<3.20,>=3.9.2 in c:\\users\\mercy\\desktop\\cherry blossom\\cherry\\lib\\site-packages (from tf-nightly-intel==2.12.0-dev20221213->tf-nightly) (3.19.6)\n",
      "Requirement already satisfied: six>=1.12.0 in c:\\users\\mercy\\desktop\\cherry blossom\\cherry\\lib\\site-packages (from tf-nightly-intel==2.12.0-dev20221213->tf-nightly) (1.16.0)\n",
      "Collecting tf-estimator-nightly~=2.12.0.dev\n",
      "  Downloading tf_estimator_nightly-2.12.0.dev2022121319-py2.py3-none-any.whl (439 kB)\n",
      "     -------------------------------------- 439.4/439.4 kB 2.5 MB/s eta 0:00:00\n",
      "Requirement already satisfied: h5py>=2.9.0 in c:\\users\\mercy\\desktop\\cherry blossom\\cherry\\lib\\site-packages (from tf-nightly-intel==2.12.0-dev20221213->tf-nightly) (3.7.0)\n",
      "Requirement already satisfied: google-pasta>=0.1.1 in c:\\users\\mercy\\desktop\\cherry blossom\\cherry\\lib\\site-packages (from tf-nightly-intel==2.12.0-dev20221213->tf-nightly) (0.2.0)\n",
      "Requirement already satisfied: typing-extensions>=3.6.6 in c:\\users\\mercy\\desktop\\cherry blossom\\cherry\\lib\\site-packages (from tf-nightly-intel==2.12.0-dev20221213->tf-nightly) (4.4.0)\n",
      "Requirement already satisfied: packaging in c:\\users\\mercy\\desktop\\cherry blossom\\cherry\\lib\\site-packages (from tf-nightly-intel==2.12.0-dev20221213->tf-nightly) (22.0)\n",
      "Requirement already satisfied: opt-einsum>=2.3.2 in c:\\users\\mercy\\desktop\\cherry blossom\\cherry\\lib\\site-packages (from tf-nightly-intel==2.12.0-dev20221213->tf-nightly) (3.3.0)\n",
      "Requirement already satisfied: termcolor>=1.1.0 in c:\\users\\mercy\\desktop\\cherry blossom\\cherry\\lib\\site-packages (from tf-nightly-intel==2.12.0-dev20221213->tf-nightly) (2.1.1)\n",
      "Requirement already satisfied: tensorflow-io-gcs-filesystem>=0.23.1 in c:\\users\\mercy\\desktop\\cherry blossom\\cherry\\lib\\site-packages (from tf-nightly-intel==2.12.0-dev20221213->tf-nightly) (0.28.0)\n",
      "Requirement already satisfied: gast<=0.4.0,>=0.2.1 in c:\\users\\mercy\\desktop\\cherry blossom\\cherry\\lib\\site-packages (from tf-nightly-intel==2.12.0-dev20221213->tf-nightly) (0.4.0)\n",
      "Requirement already satisfied: absl-py>=1.0.0 in c:\\users\\mercy\\desktop\\cherry blossom\\cherry\\lib\\site-packages (from tf-nightly-intel==2.12.0-dev20221213->tf-nightly) (1.3.0)\n",
      "Requirement already satisfied: wheel<1.0,>=0.23.0 in c:\\users\\mercy\\desktop\\cherry blossom\\cherry\\lib\\site-packages (from astunparse>=1.6.0->tf-nightly-intel==2.12.0-dev20221213->tf-nightly) (0.38.4)\n",
      "Collecting scipy>=1.5\n",
      "  Using cached scipy-1.9.3-cp38-cp38-win_amd64.whl (39.8 MB)\n",
      "Requirement already satisfied: markdown>=2.6.8 in c:\\users\\mercy\\desktop\\cherry blossom\\cherry\\lib\\site-packages (from tb-nightly~=2.12.0.a->tf-nightly-intel==2.12.0-dev20221213->tf-nightly) (3.4.1)\n",
      "Requirement already satisfied: tensorboard-plugin-wit>=1.6.0 in c:\\users\\mercy\\desktop\\cherry blossom\\cherry\\lib\\site-packages (from tb-nightly~=2.12.0.a->tf-nightly-intel==2.12.0-dev20221213->tf-nightly) (1.8.1)\n",
      "Requirement already satisfied: google-auth-oauthlib<0.5,>=0.4.1 in c:\\users\\mercy\\desktop\\cherry blossom\\cherry\\lib\\site-packages (from tb-nightly~=2.12.0.a->tf-nightly-intel==2.12.0-dev20221213->tf-nightly) (0.4.6)\n",
      "Requirement already satisfied: google-auth<3,>=1.6.3 in c:\\users\\mercy\\desktop\\cherry blossom\\cherry\\lib\\site-packages (from tb-nightly~=2.12.0.a->tf-nightly-intel==2.12.0-dev20221213->tf-nightly) (2.15.0)\n",
      "Requirement already satisfied: requests<3,>=2.21.0 in c:\\users\\mercy\\desktop\\cherry blossom\\cherry\\lib\\site-packages (from tb-nightly~=2.12.0.a->tf-nightly-intel==2.12.0-dev20221213->tf-nightly) (2.28.1)\n",
      "Requirement already satisfied: werkzeug>=1.0.1 in c:\\users\\mercy\\desktop\\cherry blossom\\cherry\\lib\\site-packages (from tb-nightly~=2.12.0.a->tf-nightly-intel==2.12.0-dev20221213->tf-nightly) (2.2.2)\n",
      "Requirement already satisfied: tensorboard-data-server<0.7.0,>=0.6.0 in c:\\users\\mercy\\desktop\\cherry blossom\\cherry\\lib\\site-packages (from tb-nightly~=2.12.0.a->tf-nightly-intel==2.12.0-dev20221213->tf-nightly) (0.6.1)\n",
      "Requirement already satisfied: pyasn1-modules>=0.2.1 in c:\\users\\mercy\\desktop\\cherry blossom\\cherry\\lib\\site-packages (from google-auth<3,>=1.6.3->tb-nightly~=2.12.0.a->tf-nightly-intel==2.12.0-dev20221213->tf-nightly) (0.2.8)\n",
      "Requirement already satisfied: cachetools<6.0,>=2.0.0 in c:\\users\\mercy\\desktop\\cherry blossom\\cherry\\lib\\site-packages (from google-auth<3,>=1.6.3->tb-nightly~=2.12.0.a->tf-nightly-intel==2.12.0-dev20221213->tf-nightly) (5.2.0)\n",
      "Requirement already satisfied: rsa<5,>=3.1.4 in c:\\users\\mercy\\desktop\\cherry blossom\\cherry\\lib\\site-packages (from google-auth<3,>=1.6.3->tb-nightly~=2.12.0.a->tf-nightly-intel==2.12.0-dev20221213->tf-nightly) (4.9)\n",
      "Requirement already satisfied: requests-oauthlib>=0.7.0 in c:\\users\\mercy\\desktop\\cherry blossom\\cherry\\lib\\site-packages (from google-auth-oauthlib<0.5,>=0.4.1->tb-nightly~=2.12.0.a->tf-nightly-intel==2.12.0-dev20221213->tf-nightly) (1.3.1)\n",
      "Requirement already satisfied: importlib-metadata>=4.4 in c:\\users\\mercy\\desktop\\cherry blossom\\cherry\\lib\\site-packages (from markdown>=2.6.8->tb-nightly~=2.12.0.a->tf-nightly-intel==2.12.0-dev20221213->tf-nightly) (5.1.0)\n",
      "Requirement already satisfied: certifi>=2017.4.17 in c:\\users\\mercy\\desktop\\cherry blossom\\cherry\\lib\\site-packages (from requests<3,>=2.21.0->tb-nightly~=2.12.0.a->tf-nightly-intel==2.12.0-dev20221213->tf-nightly) (2022.12.7)\n",
      "Requirement already satisfied: idna<4,>=2.5 in c:\\users\\mercy\\desktop\\cherry blossom\\cherry\\lib\\site-packages (from requests<3,>=2.21.0->tb-nightly~=2.12.0.a->tf-nightly-intel==2.12.0-dev20221213->tf-nightly) (3.4)\n",
      "Requirement already satisfied: urllib3<1.27,>=1.21.1 in c:\\users\\mercy\\desktop\\cherry blossom\\cherry\\lib\\site-packages (from requests<3,>=2.21.0->tb-nightly~=2.12.0.a->tf-nightly-intel==2.12.0-dev20221213->tf-nightly) (1.26.13)\n",
      "Requirement already satisfied: charset-normalizer<3,>=2 in c:\\users\\mercy\\desktop\\cherry blossom\\cherry\\lib\\site-packages (from requests<3,>=2.21.0->tb-nightly~=2.12.0.a->tf-nightly-intel==2.12.0-dev20221213->tf-nightly) (2.1.1)\n",
      "Requirement already satisfied: MarkupSafe>=2.1.1 in c:\\users\\mercy\\desktop\\cherry blossom\\cherry\\lib\\site-packages (from werkzeug>=1.0.1->tb-nightly~=2.12.0.a->tf-nightly-intel==2.12.0-dev20221213->tf-nightly) (2.1.1)\n",
      "Requirement already satisfied: zipp>=0.5 in c:\\users\\mercy\\desktop\\cherry blossom\\cherry\\lib\\site-packages (from importlib-metadata>=4.4->markdown>=2.6.8->tb-nightly~=2.12.0.a->tf-nightly-intel==2.12.0-dev20221213->tf-nightly) (3.11.0)\n",
      "Requirement already satisfied: pyasn1<0.5.0,>=0.4.6 in c:\\users\\mercy\\desktop\\cherry blossom\\cherry\\lib\\site-packages (from pyasn1-modules>=0.2.1->google-auth<3,>=1.6.3->tb-nightly~=2.12.0.a->tf-nightly-intel==2.12.0-dev20221213->tf-nightly) (0.4.8)\n",
      "Requirement already satisfied: oauthlib>=3.0.0 in c:\\users\\mercy\\desktop\\cherry blossom\\cherry\\lib\\site-packages (from requests-oauthlib>=0.7.0->google-auth-oauthlib<0.5,>=0.4.1->tb-nightly~=2.12.0.a->tf-nightly-intel==2.12.0-dev20221213->tf-nightly) (3.2.2)\n",
      "Building wheels for collected packages: jax\n",
      "  Building wheel for jax (setup.py): started\n",
      "  Building wheel for jax (setup.py): finished with status 'done'\n",
      "  Created wheel for jax: filename=jax-0.4.1-py3-none-any.whl size=1332583 sha256=c1fccb409f9b1259b84f80f9ea2bac0d31edb4e16647aa0bad8c10098c2b13f2\n",
      "  Stored in directory: c:\\users\\mercy\\appdata\\local\\pip\\cache\\wheels\\c6\\19\\40\\dc7d80747d17e7d1face9413b05fb2047dd1c57e6182b3a1e8\n",
      "Successfully built jax\n",
      "Installing collected packages: tf-estimator-nightly, scipy, keras-nightly, jax, tb-nightly, tf-nightly-intel, tf-nightly\n",
      "Successfully installed jax-0.4.1 keras-nightly-2.12.0.dev2022121308 scipy-1.9.3 tb-nightly-2.12.0a20221213 tf-estimator-nightly-2.12.0.dev2022121319 tf-nightly-2.12.0.dev20221213 tf-nightly-intel-2.12.0.dev20221213\n",
      "Requirement already satisfied: tensorflow in c:\\users\\mercy\\desktop\\cherry blossom\\cherry\\lib\\site-packages (2.11.0)\n",
      "Requirement already satisfied: tensorflow-intel==2.11.0 in c:\\users\\mercy\\desktop\\cherry blossom\\cherry\\lib\\site-packages (from tensorflow) (2.11.0)\n",
      "Requirement already satisfied: packaging in c:\\users\\mercy\\desktop\\cherry blossom\\cherry\\lib\\site-packages (from tensorflow-intel==2.11.0->tensorflow) (22.0)\n",
      "Requirement already satisfied: h5py>=2.9.0 in c:\\users\\mercy\\desktop\\cherry blossom\\cherry\\lib\\site-packages (from tensorflow-intel==2.11.0->tensorflow) (3.7.0)\n",
      "Requirement already satisfied: libclang>=13.0.0 in c:\\users\\mercy\\desktop\\cherry blossom\\cherry\\lib\\site-packages (from tensorflow-intel==2.11.0->tensorflow) (14.0.6)\n",
      "Requirement already satisfied: wrapt>=1.11.0 in c:\\users\\mercy\\desktop\\cherry blossom\\cherry\\lib\\site-packages (from tensorflow-intel==2.11.0->tensorflow) (1.14.1)\n",
      "Requirement already satisfied: numpy>=1.20 in c:\\users\\mercy\\desktop\\cherry blossom\\cherry\\lib\\site-packages (from tensorflow-intel==2.11.0->tensorflow) (1.23.5)\n",
      "Requirement already satisfied: six>=1.12.0 in c:\\users\\mercy\\desktop\\cherry blossom\\cherry\\lib\\site-packages (from tensorflow-intel==2.11.0->tensorflow) (1.16.0)\n",
      "Requirement already satisfied: google-pasta>=0.1.1 in c:\\users\\mercy\\desktop\\cherry blossom\\cherry\\lib\\site-packages (from tensorflow-intel==2.11.0->tensorflow) (0.2.0)\n",
      "Requirement already satisfied: protobuf<3.20,>=3.9.2 in c:\\users\\mercy\\desktop\\cherry blossom\\cherry\\lib\\site-packages (from tensorflow-intel==2.11.0->tensorflow) (3.19.6)\n",
      "Requirement already satisfied: tensorflow-io-gcs-filesystem>=0.23.1 in c:\\users\\mercy\\desktop\\cherry blossom\\cherry\\lib\\site-packages (from tensorflow-intel==2.11.0->tensorflow) (0.28.0)\n",
      "Requirement already satisfied: gast<=0.4.0,>=0.2.1 in c:\\users\\mercy\\desktop\\cherry blossom\\cherry\\lib\\site-packages (from tensorflow-intel==2.11.0->tensorflow) (0.4.0)\n",
      "Requirement already satisfied: astunparse>=1.6.0 in c:\\users\\mercy\\desktop\\cherry blossom\\cherry\\lib\\site-packages (from tensorflow-intel==2.11.0->tensorflow) (1.6.3)\n",
      "Requirement already satisfied: setuptools in c:\\users\\mercy\\desktop\\cherry blossom\\cherry\\lib\\site-packages (from tensorflow-intel==2.11.0->tensorflow) (49.2.1)\n",
      "Requirement already satisfied: flatbuffers>=2.0 in c:\\users\\mercy\\desktop\\cherry blossom\\cherry\\lib\\site-packages (from tensorflow-intel==2.11.0->tensorflow) (22.12.6)\n",
      "Requirement already satisfied: absl-py>=1.0.0 in c:\\users\\mercy\\desktop\\cherry blossom\\cherry\\lib\\site-packages (from tensorflow-intel==2.11.0->tensorflow) (1.3.0)\n",
      "Requirement already satisfied: typing-extensions>=3.6.6 in c:\\users\\mercy\\desktop\\cherry blossom\\cherry\\lib\\site-packages (from tensorflow-intel==2.11.0->tensorflow) (4.4.0)\n",
      "Requirement already satisfied: tensorboard<2.12,>=2.11 in c:\\users\\mercy\\desktop\\cherry blossom\\cherry\\lib\\site-packages (from tensorflow-intel==2.11.0->tensorflow) (2.11.0)\n",
      "Requirement already satisfied: keras<2.12,>=2.11.0 in c:\\users\\mercy\\desktop\\cherry blossom\\cherry\\lib\\site-packages (from tensorflow-intel==2.11.0->tensorflow) (2.11.0)\n",
      "Requirement already satisfied: termcolor>=1.1.0 in c:\\users\\mercy\\desktop\\cherry blossom\\cherry\\lib\\site-packages (from tensorflow-intel==2.11.0->tensorflow) (2.1.1)\n",
      "Requirement already satisfied: opt-einsum>=2.3.2 in c:\\users\\mercy\\desktop\\cherry blossom\\cherry\\lib\\site-packages (from tensorflow-intel==2.11.0->tensorflow) (3.3.0)\n",
      "Requirement already satisfied: tensorflow-estimator<2.12,>=2.11.0 in c:\\users\\mercy\\desktop\\cherry blossom\\cherry\\lib\\site-packages (from tensorflow-intel==2.11.0->tensorflow) (2.11.0)\n",
      "Requirement already satisfied: grpcio<2.0,>=1.24.3 in c:\\users\\mercy\\desktop\\cherry blossom\\cherry\\lib\\site-packages (from tensorflow-intel==2.11.0->tensorflow) (1.51.1)\n",
      "Requirement already satisfied: wheel<1.0,>=0.23.0 in c:\\users\\mercy\\desktop\\cherry blossom\\cherry\\lib\\site-packages (from astunparse>=1.6.0->tensorflow-intel==2.11.0->tensorflow) (0.38.4)\n",
      "Requirement already satisfied: tensorboard-data-server<0.7.0,>=0.6.0 in c:\\users\\mercy\\desktop\\cherry blossom\\cherry\\lib\\site-packages (from tensorboard<2.12,>=2.11->tensorflow-intel==2.11.0->tensorflow) (0.6.1)\n",
      "Requirement already satisfied: tensorboard-plugin-wit>=1.6.0 in c:\\users\\mercy\\desktop\\cherry blossom\\cherry\\lib\\site-packages (from tensorboard<2.12,>=2.11->tensorflow-intel==2.11.0->tensorflow) (1.8.1)\n",
      "Requirement already satisfied: markdown>=2.6.8 in c:\\users\\mercy\\desktop\\cherry blossom\\cherry\\lib\\site-packages (from tensorboard<2.12,>=2.11->tensorflow-intel==2.11.0->tensorflow) (3.4.1)\n",
      "Requirement already satisfied: requests<3,>=2.21.0 in c:\\users\\mercy\\desktop\\cherry blossom\\cherry\\lib\\site-packages (from tensorboard<2.12,>=2.11->tensorflow-intel==2.11.0->tensorflow) (2.28.1)\n",
      "Requirement already satisfied: werkzeug>=1.0.1 in c:\\users\\mercy\\desktop\\cherry blossom\\cherry\\lib\\site-packages (from tensorboard<2.12,>=2.11->tensorflow-intel==2.11.0->tensorflow) (2.2.2)\n",
      "Requirement already satisfied: google-auth<3,>=1.6.3 in c:\\users\\mercy\\desktop\\cherry blossom\\cherry\\lib\\site-packages (from tensorboard<2.12,>=2.11->tensorflow-intel==2.11.0->tensorflow) (2.15.0)\n",
      "Requirement already satisfied: google-auth-oauthlib<0.5,>=0.4.1 in c:\\users\\mercy\\desktop\\cherry blossom\\cherry\\lib\\site-packages (from tensorboard<2.12,>=2.11->tensorflow-intel==2.11.0->tensorflow) (0.4.6)\n",
      "Requirement already satisfied: rsa<5,>=3.1.4 in c:\\users\\mercy\\desktop\\cherry blossom\\cherry\\lib\\site-packages (from google-auth<3,>=1.6.3->tensorboard<2.12,>=2.11->tensorflow-intel==2.11.0->tensorflow) (4.9)\n",
      "Requirement already satisfied: pyasn1-modules>=0.2.1 in c:\\users\\mercy\\desktop\\cherry blossom\\cherry\\lib\\site-packages (from google-auth<3,>=1.6.3->tensorboard<2.12,>=2.11->tensorflow-intel==2.11.0->tensorflow) (0.2.8)\n",
      "Requirement already satisfied: cachetools<6.0,>=2.0.0 in c:\\users\\mercy\\desktop\\cherry blossom\\cherry\\lib\\site-packages (from google-auth<3,>=1.6.3->tensorboard<2.12,>=2.11->tensorflow-intel==2.11.0->tensorflow) (5.2.0)\n",
      "Requirement already satisfied: requests-oauthlib>=0.7.0 in c:\\users\\mercy\\desktop\\cherry blossom\\cherry\\lib\\site-packages (from google-auth-oauthlib<0.5,>=0.4.1->tensorboard<2.12,>=2.11->tensorflow-intel==2.11.0->tensorflow) (1.3.1)\n",
      "Requirement already satisfied: importlib-metadata>=4.4 in c:\\users\\mercy\\desktop\\cherry blossom\\cherry\\lib\\site-packages (from markdown>=2.6.8->tensorboard<2.12,>=2.11->tensorflow-intel==2.11.0->tensorflow) (5.1.0)\n",
      "Requirement already satisfied: idna<4,>=2.5 in c:\\users\\mercy\\desktop\\cherry blossom\\cherry\\lib\\site-packages (from requests<3,>=2.21.0->tensorboard<2.12,>=2.11->tensorflow-intel==2.11.0->tensorflow) (3.4)\n",
      "Requirement already satisfied: urllib3<1.27,>=1.21.1 in c:\\users\\mercy\\desktop\\cherry blossom\\cherry\\lib\\site-packages (from requests<3,>=2.21.0->tensorboard<2.12,>=2.11->tensorflow-intel==2.11.0->tensorflow) (1.26.13)\n",
      "Requirement already satisfied: certifi>=2017.4.17 in c:\\users\\mercy\\desktop\\cherry blossom\\cherry\\lib\\site-packages (from requests<3,>=2.21.0->tensorboard<2.12,>=2.11->tensorflow-intel==2.11.0->tensorflow) (2022.12.7)\n",
      "Requirement already satisfied: charset-normalizer<3,>=2 in c:\\users\\mercy\\desktop\\cherry blossom\\cherry\\lib\\site-packages (from requests<3,>=2.21.0->tensorboard<2.12,>=2.11->tensorflow-intel==2.11.0->tensorflow) (2.1.1)\n",
      "Requirement already satisfied: MarkupSafe>=2.1.1 in c:\\users\\mercy\\desktop\\cherry blossom\\cherry\\lib\\site-packages (from werkzeug>=1.0.1->tensorboard<2.12,>=2.11->tensorflow-intel==2.11.0->tensorflow) (2.1.1)\n",
      "Requirement already satisfied: zipp>=0.5 in c:\\users\\mercy\\desktop\\cherry blossom\\cherry\\lib\\site-packages (from importlib-metadata>=4.4->markdown>=2.6.8->tensorboard<2.12,>=2.11->tensorflow-intel==2.11.0->tensorflow) (3.11.0)\n",
      "Requirement already satisfied: pyasn1<0.5.0,>=0.4.6 in c:\\users\\mercy\\desktop\\cherry blossom\\cherry\\lib\\site-packages (from pyasn1-modules>=0.2.1->google-auth<3,>=1.6.3->tensorboard<2.12,>=2.11->tensorflow-intel==2.11.0->tensorflow) (0.4.8)\n",
      "Requirement already satisfied: oauthlib>=3.0.0 in c:\\users\\mercy\\desktop\\cherry blossom\\cherry\\lib\\site-packages (from requests-oauthlib>=0.7.0->google-auth-oauthlib<0.5,>=0.4.1->tensorboard<2.12,>=2.11->tensorflow-intel==2.11.0->tensorflow) (3.2.2)\n",
      "Requirement already satisfied: keras in c:\\users\\mercy\\desktop\\cherry blossom\\cherry\\lib\\site-packages (2.11.0)\n"
     ]
    },
    {
     "name": "stderr",
     "output_type": "stream",
     "text": [
      "'apt' is not recognized as an internal or external command,\n",
      "operable program or batch file.\n"
     ]
    }
   ],
   "source": [
    "#!pip3 install keras==2.1.6\n",
    "#! pip install tensorflow==2.2.1\n",
    "! pip install --upgrade tensorflow \n",
    "! pip install tf-nightly \n",
    "! pip install --upgrade tensorflow\n",
    "! pip install --upgrade keras\n",
    "!apt install --allow-change-held-packages libcudnn8=8.1.0.77-1+cuda11.2"
   ]
  },
  {
   "cell_type": "code",
   "execution_count": 3,
   "metadata": {},
   "outputs": [],
   "source": [
    "import warnings \n",
    "warnings.filterwarnings('ignore') #ignores warnings "
   ]
  },
  {
   "cell_type": "code",
   "execution_count": 4,
   "metadata": {},
   "outputs": [
    {
     "name": "stdout",
     "output_type": "stream",
     "text": [
      "Requirement already satisfied: tensorflow in c:\\users\\mercy\\desktop\\cherry blossom\\cherry\\lib\\site-packages (2.11.0)\n",
      "Requirement already satisfied: tensorflow-intel==2.11.0 in c:\\users\\mercy\\desktop\\cherry blossom\\cherry\\lib\\site-packages (from tensorflow) (2.11.0)\n",
      "Requirement already satisfied: protobuf<3.20,>=3.9.2 in c:\\users\\mercy\\desktop\\cherry blossom\\cherry\\lib\\site-packages (from tensorflow-intel==2.11.0->tensorflow) (3.19.6)\n",
      "Requirement already satisfied: tensorflow-estimator<2.12,>=2.11.0 in c:\\users\\mercy\\desktop\\cherry blossom\\cherry\\lib\\site-packages (from tensorflow-intel==2.11.0->tensorflow) (2.11.0)\n",
      "Requirement already satisfied: setuptools in c:\\users\\mercy\\desktop\\cherry blossom\\cherry\\lib\\site-packages (from tensorflow-intel==2.11.0->tensorflow) (49.2.1)\n",
      "Requirement already satisfied: tensorflow-io-gcs-filesystem>=0.23.1 in c:\\users\\mercy\\desktop\\cherry blossom\\cherry\\lib\\site-packages (from tensorflow-intel==2.11.0->tensorflow) (0.28.0)\n",
      "Requirement already satisfied: typing-extensions>=3.6.6 in c:\\users\\mercy\\desktop\\cherry blossom\\cherry\\lib\\site-packages (from tensorflow-intel==2.11.0->tensorflow) (4.4.0)\n",
      "Requirement already satisfied: grpcio<2.0,>=1.24.3 in c:\\users\\mercy\\desktop\\cherry blossom\\cherry\\lib\\site-packages (from tensorflow-intel==2.11.0->tensorflow) (1.51.1)\n",
      "Requirement already satisfied: numpy>=1.20 in c:\\users\\mercy\\desktop\\cherry blossom\\cherry\\lib\\site-packages (from tensorflow-intel==2.11.0->tensorflow) (1.23.5)\n",
      "Requirement already satisfied: gast<=0.4.0,>=0.2.1 in c:\\users\\mercy\\desktop\\cherry blossom\\cherry\\lib\\site-packages (from tensorflow-intel==2.11.0->tensorflow) (0.4.0)\n",
      "Requirement already satisfied: six>=1.12.0 in c:\\users\\mercy\\desktop\\cherry blossom\\cherry\\lib\\site-packages (from tensorflow-intel==2.11.0->tensorflow) (1.16.0)\n",
      "Requirement already satisfied: tensorboard<2.12,>=2.11 in c:\\users\\mercy\\desktop\\cherry blossom\\cherry\\lib\\site-packages (from tensorflow-intel==2.11.0->tensorflow) (2.11.0)\n",
      "Requirement already satisfied: opt-einsum>=2.3.2 in c:\\users\\mercy\\desktop\\cherry blossom\\cherry\\lib\\site-packages (from tensorflow-intel==2.11.0->tensorflow) (3.3.0)\n",
      "Requirement already satisfied: astunparse>=1.6.0 in c:\\users\\mercy\\desktop\\cherry blossom\\cherry\\lib\\site-packages (from tensorflow-intel==2.11.0->tensorflow) (1.6.3)\n",
      "Requirement already satisfied: termcolor>=1.1.0 in c:\\users\\mercy\\desktop\\cherry blossom\\cherry\\lib\\site-packages (from tensorflow-intel==2.11.0->tensorflow) (2.1.1)\n",
      "Requirement already satisfied: h5py>=2.9.0 in c:\\users\\mercy\\desktop\\cherry blossom\\cherry\\lib\\site-packages (from tensorflow-intel==2.11.0->tensorflow) (3.7.0)\n",
      "Requirement already satisfied: packaging in c:\\users\\mercy\\desktop\\cherry blossom\\cherry\\lib\\site-packages (from tensorflow-intel==2.11.0->tensorflow) (22.0)\n",
      "Requirement already satisfied: wrapt>=1.11.0 in c:\\users\\mercy\\desktop\\cherry blossom\\cherry\\lib\\site-packages (from tensorflow-intel==2.11.0->tensorflow) (1.14.1)\n",
      "Requirement already satisfied: keras<2.12,>=2.11.0 in c:\\users\\mercy\\desktop\\cherry blossom\\cherry\\lib\\site-packages (from tensorflow-intel==2.11.0->tensorflow) (2.11.0)\n",
      "Requirement already satisfied: libclang>=13.0.0 in c:\\users\\mercy\\desktop\\cherry blossom\\cherry\\lib\\site-packages (from tensorflow-intel==2.11.0->tensorflow) (14.0.6)\n",
      "Requirement already satisfied: google-pasta>=0.1.1 in c:\\users\\mercy\\desktop\\cherry blossom\\cherry\\lib\\site-packages (from tensorflow-intel==2.11.0->tensorflow) (0.2.0)\n",
      "Requirement already satisfied: absl-py>=1.0.0 in c:\\users\\mercy\\desktop\\cherry blossom\\cherry\\lib\\site-packages (from tensorflow-intel==2.11.0->tensorflow) (1.3.0)\n",
      "Requirement already satisfied: flatbuffers>=2.0 in c:\\users\\mercy\\desktop\\cherry blossom\\cherry\\lib\\site-packages (from tensorflow-intel==2.11.0->tensorflow) (22.12.6)\n",
      "Requirement already satisfied: wheel<1.0,>=0.23.0 in c:\\users\\mercy\\desktop\\cherry blossom\\cherry\\lib\\site-packages (from astunparse>=1.6.0->tensorflow-intel==2.11.0->tensorflow) (0.38.4)\n",
      "Requirement already satisfied: werkzeug>=1.0.1 in c:\\users\\mercy\\desktop\\cherry blossom\\cherry\\lib\\site-packages (from tensorboard<2.12,>=2.11->tensorflow-intel==2.11.0->tensorflow) (2.2.2)\n",
      "Requirement already satisfied: google-auth-oauthlib<0.5,>=0.4.1 in c:\\users\\mercy\\desktop\\cherry blossom\\cherry\\lib\\site-packages (from tensorboard<2.12,>=2.11->tensorflow-intel==2.11.0->tensorflow) (0.4.6)\n",
      "Requirement already satisfied: markdown>=2.6.8 in c:\\users\\mercy\\desktop\\cherry blossom\\cherry\\lib\\site-packages (from tensorboard<2.12,>=2.11->tensorflow-intel==2.11.0->tensorflow) (3.4.1)\n",
      "Requirement already satisfied: requests<3,>=2.21.0 in c:\\users\\mercy\\desktop\\cherry blossom\\cherry\\lib\\site-packages (from tensorboard<2.12,>=2.11->tensorflow-intel==2.11.0->tensorflow) (2.28.1)\n",
      "Requirement already satisfied: tensorboard-data-server<0.7.0,>=0.6.0 in c:\\users\\mercy\\desktop\\cherry blossom\\cherry\\lib\\site-packages (from tensorboard<2.12,>=2.11->tensorflow-intel==2.11.0->tensorflow) (0.6.1)\n",
      "Requirement already satisfied: tensorboard-plugin-wit>=1.6.0 in c:\\users\\mercy\\desktop\\cherry blossom\\cherry\\lib\\site-packages (from tensorboard<2.12,>=2.11->tensorflow-intel==2.11.0->tensorflow) (1.8.1)\n",
      "Requirement already satisfied: google-auth<3,>=1.6.3 in c:\\users\\mercy\\desktop\\cherry blossom\\cherry\\lib\\site-packages (from tensorboard<2.12,>=2.11->tensorflow-intel==2.11.0->tensorflow) (2.15.0)\n",
      "Requirement already satisfied: pyasn1-modules>=0.2.1 in c:\\users\\mercy\\desktop\\cherry blossom\\cherry\\lib\\site-packages (from google-auth<3,>=1.6.3->tensorboard<2.12,>=2.11->tensorflow-intel==2.11.0->tensorflow) (0.2.8)\n",
      "Requirement already satisfied: rsa<5,>=3.1.4 in c:\\users\\mercy\\desktop\\cherry blossom\\cherry\\lib\\site-packages (from google-auth<3,>=1.6.3->tensorboard<2.12,>=2.11->tensorflow-intel==2.11.0->tensorflow) (4.9)\n",
      "Requirement already satisfied: cachetools<6.0,>=2.0.0 in c:\\users\\mercy\\desktop\\cherry blossom\\cherry\\lib\\site-packages (from google-auth<3,>=1.6.3->tensorboard<2.12,>=2.11->tensorflow-intel==2.11.0->tensorflow) (5.2.0)\n",
      "Requirement already satisfied: requests-oauthlib>=0.7.0 in c:\\users\\mercy\\desktop\\cherry blossom\\cherry\\lib\\site-packages (from google-auth-oauthlib<0.5,>=0.4.1->tensorboard<2.12,>=2.11->tensorflow-intel==2.11.0->tensorflow) (1.3.1)\n",
      "Requirement already satisfied: importlib-metadata>=4.4 in c:\\users\\mercy\\desktop\\cherry blossom\\cherry\\lib\\site-packages (from markdown>=2.6.8->tensorboard<2.12,>=2.11->tensorflow-intel==2.11.0->tensorflow) (5.1.0)\n",
      "Requirement already satisfied: charset-normalizer<3,>=2 in c:\\users\\mercy\\desktop\\cherry blossom\\cherry\\lib\\site-packages (from requests<3,>=2.21.0->tensorboard<2.12,>=2.11->tensorflow-intel==2.11.0->tensorflow) (2.1.1)\n",
      "Requirement already satisfied: certifi>=2017.4.17 in c:\\users\\mercy\\desktop\\cherry blossom\\cherry\\lib\\site-packages (from requests<3,>=2.21.0->tensorboard<2.12,>=2.11->tensorflow-intel==2.11.0->tensorflow) (2022.12.7)\n",
      "Requirement already satisfied: urllib3<1.27,>=1.21.1 in c:\\users\\mercy\\desktop\\cherry blossom\\cherry\\lib\\site-packages (from requests<3,>=2.21.0->tensorboard<2.12,>=2.11->tensorflow-intel==2.11.0->tensorflow) (1.26.13)\n",
      "Requirement already satisfied: idna<4,>=2.5 in c:\\users\\mercy\\desktop\\cherry blossom\\cherry\\lib\\site-packages (from requests<3,>=2.21.0->tensorboard<2.12,>=2.11->tensorflow-intel==2.11.0->tensorflow) (3.4)\n",
      "Requirement already satisfied: MarkupSafe>=2.1.1 in c:\\users\\mercy\\desktop\\cherry blossom\\cherry\\lib\\site-packages (from werkzeug>=1.0.1->tensorboard<2.12,>=2.11->tensorflow-intel==2.11.0->tensorflow) (2.1.1)\n",
      "Requirement already satisfied: zipp>=0.5 in c:\\users\\mercy\\desktop\\cherry blossom\\cherry\\lib\\site-packages (from importlib-metadata>=4.4->markdown>=2.6.8->tensorboard<2.12,>=2.11->tensorflow-intel==2.11.0->tensorflow) (3.11.0)\n",
      "Requirement already satisfied: pyasn1<0.5.0,>=0.4.6 in c:\\users\\mercy\\desktop\\cherry blossom\\cherry\\lib\\site-packages (from pyasn1-modules>=0.2.1->google-auth<3,>=1.6.3->tensorboard<2.12,>=2.11->tensorflow-intel==2.11.0->tensorflow) (0.4.8)\n",
      "Requirement already satisfied: oauthlib>=3.0.0 in c:\\users\\mercy\\desktop\\cherry blossom\\cherry\\lib\\site-packages (from requests-oauthlib>=0.7.0->google-auth-oauthlib<0.5,>=0.4.1->tensorboard<2.12,>=2.11->tensorflow-intel==2.11.0->tensorflow) (3.2.2)\n",
      "Requirement already satisfied: keras in c:\\users\\mercy\\desktop\\cherry blossom\\cherry\\lib\\site-packages (2.11.0)\n"
     ]
    }
   ],
   "source": [
    "#! pip install tensorflow==2.2.1\n",
    "! pip install --upgrade tensorflow \n",
    "! pip install --upgrade keras"
   ]
  },
  {
   "cell_type": "code",
   "execution_count": 5,
   "metadata": {},
   "outputs": [],
   "source": [
    "import tensorflow as tf"
   ]
  },
  {
   "cell_type": "code",
   "execution_count": 9,
   "metadata": {},
   "outputs": [],
   "source": [
    "directory = r'C:\\Users\\mercy\\Desktop\\Cherry Blossom\\cherry_blossom\\dataset\\data'"
   ]
  },
  {
   "cell_type": "code",
   "execution_count": 15,
   "metadata": {},
   "outputs": [
    {
     "ename": "ImportError",
     "evalue": "cannot import name 'image_dataset_from_directory' from 'keras.preprocessing' (c:\\Users\\mercy\\Desktop\\Cherry Blossom\\cherry\\lib\\site-packages\\keras\\preprocessing\\__init__.py)",
     "output_type": "error",
     "traceback": [
      "\u001b[1;31m---------------------------------------------------------------------------\u001b[0m",
      "\u001b[1;31mImportError\u001b[0m                               Traceback (most recent call last)",
      "Cell \u001b[1;32mIn[15], line 9\u001b[0m\n\u001b[0;32m      7\u001b[0m \u001b[39mfrom\u001b[39;00m \u001b[39mkeras\u001b[39;00m\u001b[39m.\u001b[39;00m\u001b[39mapplications\u001b[39;00m\u001b[39m.\u001b[39;00m\u001b[39mvgg16\u001b[39;00m \u001b[39mimport\u001b[39;00m preprocess_input\n\u001b[0;32m      8\u001b[0m \u001b[39mfrom\u001b[39;00m \u001b[39mkeras\u001b[39;00m\u001b[39m.\u001b[39;00m\u001b[39mpreprocessing\u001b[39;00m\u001b[39m.\u001b[39;00m\u001b[39mimage\u001b[39;00m \u001b[39mimport\u001b[39;00m ImageDataGenerator\n\u001b[1;32m----> 9\u001b[0m \u001b[39mfrom\u001b[39;00m \u001b[39mkeras\u001b[39;00m\u001b[39m.\u001b[39;00m\u001b[39mpreprocessing\u001b[39;00m \u001b[39mimport\u001b[39;00m image_dataset_from_directory\n\u001b[0;32m     10\u001b[0m \u001b[39mfrom\u001b[39;00m \u001b[39mkeras\u001b[39;00m\u001b[39m.\u001b[39;00m\u001b[39mutils\u001b[39;00m \u001b[39mimport\u001b[39;00m load_img\n\u001b[0;32m     11\u001b[0m \u001b[39mfrom\u001b[39;00m \u001b[39mkeras\u001b[39;00m\u001b[39m.\u001b[39;00m\u001b[39mlayers\u001b[39;00m \u001b[39mimport\u001b[39;00m Conv2D, MaxPool2D, Dropout, Flatten, Dense, BatchNormalization, GlobalAvgPool2D\n",
      "\u001b[1;31mImportError\u001b[0m: cannot import name 'image_dataset_from_directory' from 'keras.preprocessing' (c:\\Users\\mercy\\Desktop\\Cherry Blossom\\cherry\\lib\\site-packages\\keras\\preprocessing\\__init__.py)"
     ]
    }
   ],
   "source": [
    "import tensorflow as tf\n",
    "import keras\n",
    "#import tensorflow.keras\n",
    "from keras.layers import Input, Dense, Flatten\n",
    "from keras.models import Model\n",
    "from keras.applications.vgg16 import VGG16\n",
    "from keras.applications.vgg16 import preprocess_input\n",
    "from keras.preprocessing.image import ImageDataGenerator\n",
    "from keras.preprocessing import image_dataset_from_directory\n",
    "from keras.utils import load_img\n",
    "from keras.layers import Conv2D, MaxPool2D, Dropout, Flatten, Dense, BatchNormalization, GlobalAvgPool2D\n",
    "from keras.layers import MaxPooling2D\n",
    "from keras.models import Sequential #input is provided one after the other \n",
    "from keras.utils import load_img, img_to_array\n",
    "#from keras.preprocessing.image import img_to_array\n",
    "#import keras\n",
    "import cv\n",
    "from cv import cv2 \n",
    "import numpy as np\n",
    "import os #will be important to get files and their directories \n",
    "import pandas as pd \n",
    "import matplotlib.pyplot as plt\n",
    "import math #for mathematical computations \n",
    "import shutil #helps in automating process of copying and removal of files and directories and moving files from one folder to the other \n",
    "import glob #helps to return all file paths that follow a specific pattern \n",
    "print (tf.__version__)"
   ]
  },
  {
   "cell_type": "code",
   "execution_count": 16,
   "metadata": {},
   "outputs": [
    {
     "data": {
      "text/plain": [
       "['test', 'train']"
      ]
     },
     "execution_count": 16,
     "metadata": {},
     "output_type": "execute_result"
    }
   ],
   "source": [
    "os.listdir(r'C:\\Users\\mercy\\Desktop\\Cherry Blossom\\cherry_blossom\\dataset\\data')"
   ]
  },
  {
   "cell_type": "code",
   "execution_count": 17,
   "metadata": {},
   "outputs": [],
   "source": [
    "Root_directory = r\"C:\\Users\\mercy\\Desktop\\Cherry Blossom\\cherry_blossom\\dataset\\data\"\n",
    "#create a dictionary \n",
    "number_of_images = {}\n",
    "#dir is the name of the folder \n",
    "for dir in os.listdir(Root_directory):\n",
    "  number_of_images[dir] =len(os.listdir(os.path.join(Root_directory, dir)))\n"
   ]
  },
  {
   "cell_type": "code",
   "execution_count": 19,
   "metadata": {},
   "outputs": [
    {
     "data": {
      "text/plain": [
       "dict_items([('test', 2), ('train', 2)])"
      ]
     },
     "execution_count": 19,
     "metadata": {},
     "output_type": "execute_result"
    }
   ],
   "source": [
    "number_of_images.items()"
   ]
  },
  {
   "cell_type": "code",
   "execution_count": 18,
   "metadata": {},
   "outputs": [
    {
     "data": {
      "text/plain": [
       "787"
      ]
     },
     "execution_count": 18,
     "metadata": {},
     "output_type": "execute_result"
    }
   ],
   "source": [
    "#os.listdir('/content/gdrive/MyDrive/pcos-detection-using-ultrasound-images/data/test/infected')\n",
    "len(os.listdir(r'C:\\Users\\mercy\\Desktop\\Cherry Blossom\\cherry_blossom\\dataset\\data\\test\\infected'))"
   ]
  },
  {
   "cell_type": "code",
   "execution_count": 21,
   "metadata": {},
   "outputs": [
    {
     "data": {
      "text/plain": [
       "1143"
      ]
     },
     "execution_count": 21,
     "metadata": {},
     "output_type": "execute_result"
    }
   ],
   "source": [
    "#os.listdir('/content/gdrive/MyDrive/pcos-detection-using-ultrasound-images/data/test/notinfected')\n",
    "len(os.listdir(r'C:\\Users\\mercy\\Desktop\\Cherry Blossom\\cherry_blossom\\dataset\\data\\test\\notinfected'))"
   ]
  },
  {
   "cell_type": "code",
   "execution_count": 22,
   "metadata": {},
   "outputs": [
    {
     "data": {
      "text/plain": [
       "781"
      ]
     },
     "execution_count": 22,
     "metadata": {},
     "output_type": "execute_result"
    }
   ],
   "source": [
    "#os.listdir('/content/gdrive/MyDrive/pcos-detection-using-ultrasound-images/data/train/infected')\n",
    "len(os.listdir(r'C:\\Users\\mercy\\Desktop\\Cherry Blossom\\cherry_blossom\\dataset\\data\\train\\infected'))"
   ]
  },
  {
   "cell_type": "code",
   "execution_count": 23,
   "metadata": {},
   "outputs": [
    {
     "data": {
      "text/plain": [
       "1145"
      ]
     },
     "execution_count": 23,
     "metadata": {},
     "output_type": "execute_result"
    }
   ],
   "source": [
    "#os.listdir('/content/gdrive/MyDrive/pcos-detection-using-ultrasound-images/data/train/notinfected')\n",
    "len(os.listdir(r'C:\\Users\\mercy\\Desktop\\Cherry Blossom\\cherry_blossom\\dataset\\data\\train\\notinfected'))"
   ]
  },
  {
   "cell_type": "code",
   "execution_count": 24,
   "metadata": {},
   "outputs": [
    {
     "name": "stdout",
     "output_type": "stream",
     "text": [
      "Found 3856 files belonging to 2 classes.\n"
     ]
    }
   ],
   "source": [
    "train_dataset = tf.keras.preprocessing.image_dataset_from_directory (\n",
    "    directory, #where the data is located\n",
    "    labels=\"inferred\",#shows that the directory has subdirectories containing images.\n",
    "    label_mode=\"binary\", #the labels are encoded as float32 scalars with values 0 or 1 that is infected or not infected\n",
    "    class_names=None, #controls the order of classes\n",
    "    color_mode=\"rgb\",\n",
    "    batch_size=32,\n",
    "    image_size=(224,224),#resize image to 224,224 after reading from disk\n",
    "    shuffle=True,\n",
    "    seed=24, #random seed for data transformation and shuffling \n",
    "    validation_split=None,\n",
    "    subset=None,\n",
    "    interpolation=\"bilinear\",#method to use when resizing images \n",
    "    follow_links=True,\n",
    "    crop_to_aspect_ratio=False,\n",
    ")"
   ]
  },
  {
   "cell_type": "code",
   "execution_count": 28,
   "metadata": {},
   "outputs": [
    {
     "ename": "InvalidArgumentError",
     "evalue": "{{function_node __wrapped__IteratorGetNext_output_types_2_device_/job:localhost/replica:0/task:0/device:CPU:0}} Input is empty.\n\t [[{{node decode_image/DecodeImage}}]] [Op:IteratorGetNext]",
     "output_type": "error",
     "traceback": [
      "\u001b[1;31m---------------------------------------------------------------------------\u001b[0m",
      "\u001b[1;31mInvalidArgumentError\u001b[0m                      Traceback (most recent call last)",
      "Cell \u001b[1;32mIn[28], line 4\u001b[0m\n\u001b[0;32m      2\u001b[0m plt\u001b[39m.\u001b[39mfigure(figsize\u001b[39m=\u001b[39m(\u001b[39m10\u001b[39m, \u001b[39m10\u001b[39m))\n\u001b[0;32m      3\u001b[0m class_names \u001b[39m=\u001b[39m train_dataset\u001b[39m.\u001b[39mclass_names\n\u001b[1;32m----> 4\u001b[0m \u001b[39mfor\u001b[39;00m images, labels \u001b[39min\u001b[39;00m train_dataset\u001b[39m.\u001b[39mtake(\u001b[39m2\u001b[39m):\n\u001b[0;32m      5\u001b[0m     \u001b[39mfor\u001b[39;00m i \u001b[39min\u001b[39;00m \u001b[39mrange\u001b[39m(\u001b[39m32\u001b[39m):\n\u001b[0;32m      6\u001b[0m         ax \u001b[39m=\u001b[39m plt\u001b[39m.\u001b[39msubplot(\u001b[39m3\u001b[39m, \u001b[39m3\u001b[39m, i \u001b[39m+\u001b[39m \u001b[39m1\u001b[39m)\n",
      "File \u001b[1;32mc:\\Users\\mercy\\Desktop\\Cherry Blossom\\cherry\\lib\\site-packages\\tensorflow\\python\\data\\ops\\iterator_ops.py:794\u001b[0m, in \u001b[0;36mOwnedIterator.__next__\u001b[1;34m(self)\u001b[0m\n\u001b[0;32m    792\u001b[0m \u001b[39mdef\u001b[39;00m \u001b[39m__next__\u001b[39m(\u001b[39mself\u001b[39m):\n\u001b[0;32m    793\u001b[0m   \u001b[39mtry\u001b[39;00m:\n\u001b[1;32m--> 794\u001b[0m     \u001b[39mreturn\u001b[39;00m \u001b[39mself\u001b[39;49m\u001b[39m.\u001b[39;49m_next_internal()\n\u001b[0;32m    795\u001b[0m   \u001b[39mexcept\u001b[39;00m errors\u001b[39m.\u001b[39mOutOfRangeError:\n\u001b[0;32m    796\u001b[0m     \u001b[39mraise\u001b[39;00m \u001b[39mStopIteration\u001b[39;00m\n",
      "File \u001b[1;32mc:\\Users\\mercy\\Desktop\\Cherry Blossom\\cherry\\lib\\site-packages\\tensorflow\\python\\data\\ops\\iterator_ops.py:777\u001b[0m, in \u001b[0;36mOwnedIterator._next_internal\u001b[1;34m(self)\u001b[0m\n\u001b[0;32m    774\u001b[0m \u001b[39m# TODO(b/77291417): This runs in sync mode as iterators use an error status\u001b[39;00m\n\u001b[0;32m    775\u001b[0m \u001b[39m# to communicate that there is no more data to iterate over.\u001b[39;00m\n\u001b[0;32m    776\u001b[0m \u001b[39mwith\u001b[39;00m context\u001b[39m.\u001b[39mexecution_mode(context\u001b[39m.\u001b[39mSYNC):\n\u001b[1;32m--> 777\u001b[0m   ret \u001b[39m=\u001b[39m gen_dataset_ops\u001b[39m.\u001b[39;49miterator_get_next(\n\u001b[0;32m    778\u001b[0m       \u001b[39mself\u001b[39;49m\u001b[39m.\u001b[39;49m_iterator_resource,\n\u001b[0;32m    779\u001b[0m       output_types\u001b[39m=\u001b[39;49m\u001b[39mself\u001b[39;49m\u001b[39m.\u001b[39;49m_flat_output_types,\n\u001b[0;32m    780\u001b[0m       output_shapes\u001b[39m=\u001b[39;49m\u001b[39mself\u001b[39;49m\u001b[39m.\u001b[39;49m_flat_output_shapes)\n\u001b[0;32m    782\u001b[0m   \u001b[39mtry\u001b[39;00m:\n\u001b[0;32m    783\u001b[0m     \u001b[39m# Fast path for the case `self._structure` is not a nested structure.\u001b[39;00m\n\u001b[0;32m    784\u001b[0m     \u001b[39mreturn\u001b[39;00m \u001b[39mself\u001b[39m\u001b[39m.\u001b[39m_element_spec\u001b[39m.\u001b[39m_from_compatible_tensor_list(ret)  \u001b[39m# pylint: disable=protected-access\u001b[39;00m\n",
      "File \u001b[1;32mc:\\Users\\mercy\\Desktop\\Cherry Blossom\\cherry\\lib\\site-packages\\tensorflow\\python\\ops\\gen_dataset_ops.py:3043\u001b[0m, in \u001b[0;36miterator_get_next\u001b[1;34m(iterator, output_types, output_shapes, name)\u001b[0m\n\u001b[0;32m   3041\u001b[0m   \u001b[39mreturn\u001b[39;00m _result\n\u001b[0;32m   3042\u001b[0m \u001b[39mexcept\u001b[39;00m _core\u001b[39m.\u001b[39m_NotOkStatusException \u001b[39mas\u001b[39;00m e:\n\u001b[1;32m-> 3043\u001b[0m   _ops\u001b[39m.\u001b[39;49mraise_from_not_ok_status(e, name)\n\u001b[0;32m   3044\u001b[0m \u001b[39mexcept\u001b[39;00m _core\u001b[39m.\u001b[39m_FallbackException:\n\u001b[0;32m   3045\u001b[0m   \u001b[39mpass\u001b[39;00m\n",
      "File \u001b[1;32mc:\\Users\\mercy\\Desktop\\Cherry Blossom\\cherry\\lib\\site-packages\\tensorflow\\python\\framework\\ops.py:7262\u001b[0m, in \u001b[0;36mraise_from_not_ok_status\u001b[1;34m(e, name)\u001b[0m\n\u001b[0;32m   7260\u001b[0m \u001b[39mdef\u001b[39;00m \u001b[39mraise_from_not_ok_status\u001b[39m(e, name):\n\u001b[0;32m   7261\u001b[0m   e\u001b[39m.\u001b[39mmessage \u001b[39m+\u001b[39m\u001b[39m=\u001b[39m (\u001b[39m\"\u001b[39m\u001b[39m name: \u001b[39m\u001b[39m\"\u001b[39m \u001b[39m+\u001b[39m name \u001b[39mif\u001b[39;00m name \u001b[39mis\u001b[39;00m \u001b[39mnot\u001b[39;00m \u001b[39mNone\u001b[39;00m \u001b[39melse\u001b[39;00m \u001b[39m\"\u001b[39m\u001b[39m\"\u001b[39m)\n\u001b[1;32m-> 7262\u001b[0m   \u001b[39mraise\u001b[39;00m core\u001b[39m.\u001b[39m_status_to_exception(e) \u001b[39mfrom\u001b[39;00m \u001b[39mNone\u001b[39m\n",
      "\u001b[1;31mInvalidArgumentError\u001b[0m: {{function_node __wrapped__IteratorGetNext_output_types_2_device_/job:localhost/replica:0/task:0/device:CPU:0}} Input is empty.\n\t [[{{node decode_image/DecodeImage}}]] [Op:IteratorGetNext]"
     ]
    },
    {
     "data": {
      "text/plain": [
       "<Figure size 1000x1000 with 0 Axes>"
      ]
     },
     "metadata": {},
     "output_type": "display_data"
    }
   ],
   "source": [
    "import matplotlib.pyplot as plt\n",
    "plt.figure(figsize=(10, 10))\n",
    "class_names = train_dataset.class_names\n",
    "for images, labels in train_dataset.take(2):\n",
    "    for i in range(32):\n",
    "        ax = plt.subplot(6, 6, i + 1)\n",
    "        plt.imshow(images[i].numpy().astype(\"uint8\"))\n",
    "        plt.title(class_names[int(labels[i])])\n",
    "        plt.axis(\"off\")"
   ]
  },
  {
   "cell_type": "code",
   "execution_count": 29,
   "metadata": {},
   "outputs": [
    {
     "name": "stdout",
     "output_type": "stream",
     "text": [
      "Found 2700 images belonging to 2 classes.\n",
      "Found 1156 images belonging to 2 classes.\n"
     ]
    }
   ],
   "source": [
    "from keras.preprocessing.image import ImageDataGenerator\n",
    "  #create a generator\n",
    "image_data = ImageDataGenerator(zoom_range=0.2, \n",
    "                                  shear_range=0.2,\n",
    "                                  rescale = 1/255, \n",
    "                                  horizontal_flip=True,\n",
    "                                  vertical_flip=True,\n",
    "                                  rotation_range=30,\n",
    "                                  validation_split=0.3,\n",
    "                                  fill_mode='nearest'\n",
    "                                  ) #for data augmentation and increasing dimension\n",
    "image = image_data.flow_from_directory(directory, \n",
    "                                         target_size = (224,224), \n",
    "                                         batch_size = 32,\n",
    "                                         class_mode = 'binary',\n",
    "                                        # classes =['infected', 'noninfected'],\n",
    "                                         subset = 'training',\n",
    "                                         seed = 24,\n",
    "                                      \n",
    "                                         )\n",
    "validation_iterator = image_data.flow_from_directory(directory,\n",
    "                                                       class_mode = 'binary',\n",
    "                                                       #classes = ['infected', 'notinfected'],\n",
    "                                                       target_size = (224,224),\n",
    "                                                       batch_size = 32,\n",
    "                                                       subset = 'validation',\n",
    "                                                       seed = 24,\n",
    "                                                       )"
   ]
  },
  {
   "cell_type": "code",
   "execution_count": 30,
   "metadata": {},
   "outputs": [
    {
     "name": "stdout",
     "output_type": "stream",
     "text": [
      "Batch shape=(32,), min=0.000, max=1.000\n",
      "Batch shape=(32, 224, 224, 3), min=0.000, max=1.000\n"
     ]
    }
   ],
   "source": [
    "batchX, batchY = image.next()\n",
    "print('Batch shape=%s, min=%.3f, max=%.3f' %(batchY.shape, batchY.min(), batchY.max()))\n",
    "print('Batch shape=%s, min=%.3f, max=%.3f' %(batchX.shape, batchX.min(), batchX.max()))"
   ]
  },
  {
   "cell_type": "code",
   "execution_count": 37,
   "metadata": {},
   "outputs": [],
   "source": [
    "# #creating the variable\n",
    "from keras.models import Sequential\n",
    "from keras.layers.convolutional import Conv2D, MaxPooling2D\n",
    "from keras.layers import Activation, Dense,Flatten,Dropout\n",
    "model1 = Sequential()\n",
    "\n",
    "model1.add(Conv2D(filters=16, kernel_size=(5,5),padding='valid', activation='relu', input_shape =(224,224,3) )) #SIZE OF IMAGE IS 224 * 224 IN 3 CHANNELS\n",
    "#model1.add(MaxPool2D(pool_size=(4,4)))\n",
    "\n",
    "model1.add(Conv2D(filters=36, kernel_size=(5,5),padding='valid' , activation='relu' ))\n",
    "model1.add(MaxPooling2D(pool_size=(4,4)))\n",
    "\n",
    "model1.add(Conv2D(filters= 64, kernel_size=(5,5),padding='valid' , activation='relu'))\n",
    "model1.add(MaxPooling2D(pool_size=(4,4)))\n",
    "\n",
    "model1.add(Conv2D(filters= 128, kernel_size=(5,5),padding='valid' , activation='relu'))\n",
    "model1.add(MaxPooling2D(pool_size=(4,4)))\n",
    "#adding a dropout layer\n",
    "model1.add(Dropout(rate= 0.25))\n",
    "model1.add(Flatten())\n",
    "# model1.add(Dense(units=64, activation= 'relu'))\n",
    "# model1.add(Dropout(rate = 0.25))\n",
    "model1.add(Dense(units=1, activation = 'sigmoid')) #give probability of output whether its one or 0"
   ]
  },
  {
   "cell_type": "code",
   "execution_count": 38,
   "metadata": {},
   "outputs": [
    {
     "name": "stdout",
     "output_type": "stream",
     "text": [
      "Model: \"sequential_4\"\n",
      "_________________________________________________________________\n",
      " Layer (type)                Output Shape              Param #   \n",
      "=================================================================\n",
      " conv2d_8 (Conv2D)           (None, 220, 220, 16)      1216      \n",
      "                                                                 \n",
      " conv2d_9 (Conv2D)           (None, 216, 216, 36)      14436     \n",
      "                                                                 \n",
      " max_pooling2d_3 (MaxPooling  (None, 54, 54, 36)       0         \n",
      " 2D)                                                             \n",
      "                                                                 \n",
      " conv2d_10 (Conv2D)          (None, 50, 50, 64)        57664     \n",
      "                                                                 \n",
      " max_pooling2d_4 (MaxPooling  (None, 12, 12, 64)       0         \n",
      " 2D)                                                             \n",
      "                                                                 \n",
      " conv2d_11 (Conv2D)          (None, 8, 8, 128)         204928    \n",
      "                                                                 \n",
      " max_pooling2d_5 (MaxPooling  (None, 2, 2, 128)        0         \n",
      " 2D)                                                             \n",
      "                                                                 \n",
      " dropout (Dropout)           (None, 2, 2, 128)         0         \n",
      "                                                                 \n",
      " flatten (Flatten)           (None, 512)               0         \n",
      "                                                                 \n",
      " dense (Dense)               (None, 1)                 513       \n",
      "                                                                 \n",
      "=================================================================\n",
      "Total params: 278,757\n",
      "Trainable params: 278,757\n",
      "Non-trainable params: 0\n",
      "_________________________________________________________________\n"
     ]
    }
   ],
   "source": [
    "model1.summary()"
   ]
  },
  {
   "cell_type": "code",
   "execution_count": 39,
   "metadata": {},
   "outputs": [],
   "source": [
    "model1.compile(optimizer = 'adam', \n",
    "              loss = keras.losses.binary_crossentropy ,\n",
    "              metrics=['accuracy']\n",
    "              )"
   ]
  },
  {
   "cell_type": "code",
   "execution_count": 41,
   "metadata": {},
   "outputs": [
    {
     "name": "stdout",
     "output_type": "stream",
     "text": [
      "Epoch 1/5\n",
      "3/8 [==========>...................] - ETA: 42s - loss: 0.6937 - accuracy: 0.5000"
     ]
    },
    {
     "ename": "UnknownError",
     "evalue": "Graph execution error:\n\nUnidentifiedImageError: cannot identify image file <_io.BytesIO object at 0x000002C5D110C6D0>\nTraceback (most recent call last):\n\n  File \"c:\\Users\\mercy\\Desktop\\Cherry Blossom\\cherry\\lib\\site-packages\\tensorflow\\python\\ops\\script_ops.py\", line 271, in __call__\n    ret = func(*args)\n\n  File \"c:\\Users\\mercy\\Desktop\\Cherry Blossom\\cherry\\lib\\site-packages\\tensorflow\\python\\autograph\\impl\\api.py\", line 642, in wrapper\n    return func(*args, **kwargs)\n\n  File \"c:\\Users\\mercy\\Desktop\\Cherry Blossom\\cherry\\lib\\site-packages\\tensorflow\\python\\data\\ops\\from_generator_op.py\", line 198, in generator_py_func\n    values = next(generator_state.get_iterator(iterator_id))\n\n  File \"c:\\Users\\mercy\\Desktop\\Cherry Blossom\\cherry\\lib\\site-packages\\keras\\engine\\data_adapter.py\", line 901, in wrapped_generator\n    for data in generator_fn():\n\n  File \"c:\\Users\\mercy\\Desktop\\Cherry Blossom\\cherry\\lib\\site-packages\\keras\\engine\\data_adapter.py\", line 1048, in generator_fn\n    yield x[i]\n\n  File \"c:\\Users\\mercy\\Desktop\\Cherry Blossom\\cherry\\lib\\site-packages\\keras\\preprocessing\\image.py\", line 116, in __getitem__\n    return self._get_batches_of_transformed_samples(index_array)\n\n  File \"c:\\Users\\mercy\\Desktop\\Cherry Blossom\\cherry\\lib\\site-packages\\keras\\preprocessing\\image.py\", line 370, in _get_batches_of_transformed_samples\n    img = image_utils.load_img(\n\n  File \"c:\\Users\\mercy\\Desktop\\Cherry Blossom\\cherry\\lib\\site-packages\\keras\\utils\\image_utils.py\", line 423, in load_img\n    img = pil_image.open(io.BytesIO(f.read()))\n\n  File \"c:\\Users\\mercy\\Desktop\\Cherry Blossom\\cherry\\lib\\site-packages\\PIL\\Image.py\", line 3186, in open\n    raise UnidentifiedImageError(\n\nPIL.UnidentifiedImageError: cannot identify image file <_io.BytesIO object at 0x000002C5D110C6D0>\n\n\n\t [[{{node PyFunc}}]]\n\t [[IteratorGetNext]] [Op:__inference_train_function_1928]",
     "output_type": "error",
     "traceback": [
      "\u001b[1;31m---------------------------------------------------------------------------\u001b[0m",
      "\u001b[1;31mUnknownError\u001b[0m                              Traceback (most recent call last)",
      "Cell \u001b[1;32mIn[41], line 1\u001b[0m\n\u001b[1;32m----> 1\u001b[0m history \u001b[39m=\u001b[39m model1\u001b[39m.\u001b[39;49mfit(\n\u001b[0;32m      2\u001b[0m     image,\n\u001b[0;32m      3\u001b[0m     steps_per_epoch\u001b[39m=\u001b[39;49m \u001b[39m8\u001b[39;49m,\n\u001b[0;32m      4\u001b[0m     validation_data \u001b[39m=\u001b[39;49m validation_iterator,\n\u001b[0;32m      5\u001b[0m     validation_steps \u001b[39m=\u001b[39;49m \u001b[39m16\u001b[39;49m,\n\u001b[0;32m      6\u001b[0m     epochs \u001b[39m=\u001b[39;49m \u001b[39m5\u001b[39;49m\n\u001b[0;32m      7\u001b[0m )\n",
      "File \u001b[1;32mc:\\Users\\mercy\\Desktop\\Cherry Blossom\\cherry\\lib\\site-packages\\keras\\utils\\traceback_utils.py:70\u001b[0m, in \u001b[0;36mfilter_traceback.<locals>.error_handler\u001b[1;34m(*args, **kwargs)\u001b[0m\n\u001b[0;32m     67\u001b[0m     filtered_tb \u001b[39m=\u001b[39m _process_traceback_frames(e\u001b[39m.\u001b[39m__traceback__)\n\u001b[0;32m     68\u001b[0m     \u001b[39m# To get the full stack trace, call:\u001b[39;00m\n\u001b[0;32m     69\u001b[0m     \u001b[39m# `tf.debugging.disable_traceback_filtering()`\u001b[39;00m\n\u001b[1;32m---> 70\u001b[0m     \u001b[39mraise\u001b[39;00m e\u001b[39m.\u001b[39mwith_traceback(filtered_tb) \u001b[39mfrom\u001b[39;00m \u001b[39mNone\u001b[39m\n\u001b[0;32m     71\u001b[0m \u001b[39mfinally\u001b[39;00m:\n\u001b[0;32m     72\u001b[0m     \u001b[39mdel\u001b[39;00m filtered_tb\n",
      "File \u001b[1;32mc:\\Users\\mercy\\Desktop\\Cherry Blossom\\cherry\\lib\\site-packages\\tensorflow\\python\\eager\\execute.py:52\u001b[0m, in \u001b[0;36mquick_execute\u001b[1;34m(op_name, num_outputs, inputs, attrs, ctx, name)\u001b[0m\n\u001b[0;32m     50\u001b[0m \u001b[39mtry\u001b[39;00m:\n\u001b[0;32m     51\u001b[0m   ctx\u001b[39m.\u001b[39mensure_initialized()\n\u001b[1;32m---> 52\u001b[0m   tensors \u001b[39m=\u001b[39m pywrap_tfe\u001b[39m.\u001b[39mTFE_Py_Execute(ctx\u001b[39m.\u001b[39m_handle, device_name, op_name,\n\u001b[0;32m     53\u001b[0m                                       inputs, attrs, num_outputs)\n\u001b[0;32m     54\u001b[0m \u001b[39mexcept\u001b[39;00m core\u001b[39m.\u001b[39m_NotOkStatusException \u001b[39mas\u001b[39;00m e:\n\u001b[0;32m     55\u001b[0m   \u001b[39mif\u001b[39;00m name \u001b[39mis\u001b[39;00m \u001b[39mnot\u001b[39;00m \u001b[39mNone\u001b[39;00m:\n",
      "\u001b[1;31mUnknownError\u001b[0m: Graph execution error:\n\nUnidentifiedImageError: cannot identify image file <_io.BytesIO object at 0x000002C5D110C6D0>\nTraceback (most recent call last):\n\n  File \"c:\\Users\\mercy\\Desktop\\Cherry Blossom\\cherry\\lib\\site-packages\\tensorflow\\python\\ops\\script_ops.py\", line 271, in __call__\n    ret = func(*args)\n\n  File \"c:\\Users\\mercy\\Desktop\\Cherry Blossom\\cherry\\lib\\site-packages\\tensorflow\\python\\autograph\\impl\\api.py\", line 642, in wrapper\n    return func(*args, **kwargs)\n\n  File \"c:\\Users\\mercy\\Desktop\\Cherry Blossom\\cherry\\lib\\site-packages\\tensorflow\\python\\data\\ops\\from_generator_op.py\", line 198, in generator_py_func\n    values = next(generator_state.get_iterator(iterator_id))\n\n  File \"c:\\Users\\mercy\\Desktop\\Cherry Blossom\\cherry\\lib\\site-packages\\keras\\engine\\data_adapter.py\", line 901, in wrapped_generator\n    for data in generator_fn():\n\n  File \"c:\\Users\\mercy\\Desktop\\Cherry Blossom\\cherry\\lib\\site-packages\\keras\\engine\\data_adapter.py\", line 1048, in generator_fn\n    yield x[i]\n\n  File \"c:\\Users\\mercy\\Desktop\\Cherry Blossom\\cherry\\lib\\site-packages\\keras\\preprocessing\\image.py\", line 116, in __getitem__\n    return self._get_batches_of_transformed_samples(index_array)\n\n  File \"c:\\Users\\mercy\\Desktop\\Cherry Blossom\\cherry\\lib\\site-packages\\keras\\preprocessing\\image.py\", line 370, in _get_batches_of_transformed_samples\n    img = image_utils.load_img(\n\n  File \"c:\\Users\\mercy\\Desktop\\Cherry Blossom\\cherry\\lib\\site-packages\\keras\\utils\\image_utils.py\", line 423, in load_img\n    img = pil_image.open(io.BytesIO(f.read()))\n\n  File \"c:\\Users\\mercy\\Desktop\\Cherry Blossom\\cherry\\lib\\site-packages\\PIL\\Image.py\", line 3186, in open\n    raise UnidentifiedImageError(\n\nPIL.UnidentifiedImageError: cannot identify image file <_io.BytesIO object at 0x000002C5D110C6D0>\n\n\n\t [[{{node PyFunc}}]]\n\t [[IteratorGetNext]] [Op:__inference_train_function_1928]"
     ]
    }
   ],
   "source": [
    "history = model1.fit(\n",
    "    image,\n",
    "    steps_per_epoch= 8,\n",
    "    validation_data = validation_iterator,\n",
    "    validation_steps = 16,\n",
    "    epochs = 5\n",
    ")"
   ]
  },
  {
   "cell_type": "code",
   "execution_count": null,
   "metadata": {},
   "outputs": [],
   "source": [
    "#plotting errors and model graphical interpretation \n",
    "graph_history = history.history\n",
    "graph_history.keys()\n"
   ]
  },
  {
   "cell_type": "code",
   "execution_count": null,
   "metadata": {},
   "outputs": [],
   "source": [
    "import matplotlib.pyplot as plt \n",
    "\n",
    "plt.plot (graph_history['accuracy'] , color = \"black\")\n",
    "plt.plot ( graph_history['val_accuracy'], color = \"blue\")\n",
    "\n",
    "plt.title(\"Accuracy vs Validation Accuracy\")\n",
    "plt.show()"
   ]
  },
  {
   "cell_type": "code",
   "execution_count": null,
   "metadata": {},
   "outputs": [],
   "source": [
    "plt.plot (graph_history['loss'] , color = \"green\")\n",
    "plt.plot ( graph_history['val_loss'], color = \"purple\")\n",
    "\n",
    "plt.title(\"Loss vs Validation Loss\")\n",
    "plt.show()"
   ]
  },
  {
   "cell_type": "code",
   "execution_count": null,
   "metadata": {},
   "outputs": [],
   "source": [
    "def preprocessingImages(path):\n",
    "      \"\"\"input : path \n",
    "     output : pre preprocessed images \n",
    "  \"\"\"\n",
    "image_data = ImageDataGenerator(rescale = 1/255) #for data augmentation and increasing dimension\n",
    "image = image_data.flow_from_directory(directory = path, target_size = (224,224), batch_size = 32,class_mode = 'binary')\n",
    "return image"
   ]
  },
  {
   "cell_type": "code",
   "execution_count": null,
   "metadata": {},
   "outputs": [],
   "source": [
    "path = \"/content/gdrive/MyDrive/pcos-detection-using-ultrasound-images/data/train\"\n",
    "train_data = preprocessingImages(path) "
   ]
  },
  {
   "cell_type": "code",
   "execution_count": null,
   "metadata": {},
   "outputs": [],
   "source": [
    "def preprocessingImages2(path):\n",
    "      \"\"\"input : path \n",
    "     output : pre preprocessed images \n",
    "  \"\"\"\n",
    "image_data = ImageDataGenerator(rescale = 1/255) #for data augmentation and increasing dimension\n",
    "image = image_data.flow_from_directory(directory = path, target_size = (224,224), batch_size = 32,class_mode = 'binary')\n",
    "return image"
   ]
  },
  {
   "cell_type": "code",
   "execution_count": null,
   "metadata": {},
   "outputs": [],
   "source": [
    "path = \"/content/gdrive/MyDrive/pcos-detection-using-ultrasound-images/data/test\"\n",
    "test_data = preprocessingImages2(path)"
   ]
  },
  {
   "cell_type": "code",
   "execution_count": null,
   "metadata": {},
   "outputs": [],
   "source": [
    "#creating the variable\n",
    "from keras.models import Sequential\n",
    "from keras.layers.convolutional import Conv2D, MaxPooling2D\n",
    "from keras.layers import Activation, Dense,Flatten,Dropout\n",
    "\n",
    "model2 = Sequential()\n",
    "\n",
    "model2.add(Conv2D(filters=16, kernel_size=(6,6),padding='valid', activation='relu', input_shape =(224,224,3) )) #SIZE OF IMAGE IS 224 * 224 IN 3 CHANNELS\n",
    "model2.add(MaxPool2D(pool_size=(6,6)))\n",
    "\n",
    "model2.add(Conv2D(filters=12, kernel_size=(5,5),padding='valid' , activation='relu' ))\n",
    "model2.add(MaxPool2D(pool_size=(5,5)))\n",
    "\n",
    "model2.add(Conv2D(filters= 10, kernel_size=(3,3),padding='valid' , activation='relu'))\n",
    "model2.add(MaxPool2D(pool_size=(3,3)))\n",
    "\n",
    "# model2.add(Conv2D(15, (5,5),padding='valid',activation='relu'))\n",
    "# model2.add(MaxPooling2D(pool_size=(5,5)))\n",
    "#adding a dropout layer\n",
    "model2.add(Dropout(rate= 0.25))\n",
    "model2.add(Flatten())\n",
    "model2.add(Dense(units=64, activation= 'relu'))\n",
    "# model2.add(Dropout(rate = 0.25))\n",
    "model2.add(Dense(units=1, activation = 'sigmoid')) #give probability of output whether its one or 0\n",
    "\n",
    "# model2 = Sequential() #give probability of output whether its one or 0\n"
   ]
  },
  {
   "cell_type": "code",
   "execution_count": null,
   "metadata": {},
   "outputs": [],
   "source": [
    "model2.summary()"
   ]
  },
  {
   "cell_type": "code",
   "execution_count": null,
   "metadata": {},
   "outputs": [],
   "source": [
    "model2.compile(optimizer = 'adam', \n",
    "              loss = keras.losses.binary_crossentropy,\n",
    "              metrics=['accuracy']\n",
    "              )"
   ]
  },
  {
   "cell_type": "code",
   "execution_count": null,
   "metadata": {},
   "outputs": [],
   "source": [
    "history = model2.fit(\n",
    "          image,\n",
    "          validation_data = validation_iterator,\n",
    "          epochs = 8\n",
    ")"
   ]
  },
  {
   "cell_type": "code",
   "execution_count": null,
   "metadata": {},
   "outputs": [],
   "source": [
    "plt.plot (graph_history['accuracy'] , color = \"black\")\n",
    "plt.plot ( graph_history['val_accuracy'], color = \"blue\")\n",
    "\n",
    "plt.title(\"Accuracy vs Validation Accuracy\")\n",
    "plt.show()"
   ]
  },
  {
   "cell_type": "code",
   "execution_count": null,
   "metadata": {},
   "outputs": [],
   "source": [
    "plt.plot (graph_history['loss'] , color = \"green\")\n",
    "plt.plot ( graph_history['val_loss'], color = \"purple\")\n",
    "\n",
    "plt.title(\"Loss vs Validation Loss\")\n",
    "plt.show()"
   ]
  },
  {
   "cell_type": "code",
   "execution_count": null,
   "metadata": {},
   "outputs": [],
   "source": [
    "from keras.models import Sequential\n",
    "from keras.layers.convolutional import Conv2D, MaxPooling2D\n",
    "from keras.layers import Activation, Dense,Flatten,Dropout\n",
    "model3 = Sequential()\n",
    "\n",
    "model3.add(Conv2D(10, (5,5),padding='valid',activation='relu',input_shape=(224,224,3)))\n",
    "model3.add(MaxPooling2D(pool_size=(4,4)))\n",
    "\n",
    "model3.add(Conv2D(12, (5,5),padding='valid',activation='relu'))\n",
    "model3.add(MaxPooling2D(pool_size=(4,4)))\n",
    "\n",
    "model3.add(Conv2D(5, (3,3),padding='valid',activation='relu'))\n",
    "# model3.add(Conv2D(256, (5,5),padding='valid',activation='relu'))\n",
    "model3.add(MaxPooling2D(pool_size=(3,3)))\n",
    "\n",
    "model3.add(Flatten())\n",
    "model3.add(Dropout(rate= 0.25))\n",
    "#model3.add(Dense(128,activation='relu'))\n",
    "#model3.add(Dense(64,activation='relu'))\n",
    "model3.add(Dense(1,activation='sigmoid'))"
   ]
  },
  {
   "cell_type": "code",
   "execution_count": null,
   "metadata": {},
   "outputs": [],
   "source": [
    "model3.compile(\n",
    "  optimizer='adam',\n",
    "  loss=keras.losses.binary_crossentropy,\n",
    "  metrics=['accuracy'])"
   ]
  },
  {
   "cell_type": "code",
   "execution_count": null,
   "metadata": {},
   "outputs": [],
   "source": [
    "history = model3.fit( \n",
    "  image,\n",
    "  validation_data=validation_iterator,\n",
    "  epochs=6)"
   ]
  },
  {
   "cell_type": "code",
   "execution_count": null,
   "metadata": {},
   "outputs": [],
   "source": [
    "plt.plot (graph_history['accuracy'] , color = \"black\")\n",
    "plt.plot ( graph_history['val_accuracy'], color = \"blue\")\n",
    "\n",
    "plt.title(\"Accuracy vs Validation Accuracy\")\n",
    "plt.show()\n",
    "\n",
    "plt.plot (graph_history['loss'] , color = \"green\")\n",
    "plt.plot ( graph_history['val_loss'], color = \"purple\")\n",
    "\n",
    "plt.title(\"Loss vs Validation Loss\")\n",
    "plt.show()"
   ]
  },
  {
   "cell_type": "code",
   "execution_count": null,
   "metadata": {},
   "outputs": [],
   "source": [
    "from keras.models import Sequential\n",
    "from keras.layers.convolutional import Conv2D, MaxPooling2D\n",
    "from keras.layers import Activation, Dense,Flatten,Dropout\n",
    "model5 = Sequential()\n",
    "\n",
    "model5.add(Conv2D(15, (5,5),padding='valid',activation='relu',input_shape=(224,224,3)))\n",
    "model5.add(MaxPooling2D(pool_size=(5,5)))\n",
    "\n",
    "model5.add(Conv2D(12, (4,4),padding='valid',activation='relu'))\n",
    "model5.add(MaxPooling2D(pool_size=(4,4)))\n",
    "\n",
    "model5.add(Conv2D(8, (3,3),padding='valid',activation='relu'))\n",
    "# model5.add(Conv2D(256, (5,5),padding='valid',activation='relu'))\n",
    "model5.add(MaxPooling2D(pool_size=(3,3)))\n",
    "model5.add(Flatten())\n",
    "model5.add(Dropout(rate= 0.25))\n",
    "#model5.add(Dense(128,activation='relu'))\n",
    "#model5.add(Dense(64,activation='relu'))\n",
    "model5.add(Dense(1,activation='sigmoid'))"
   ]
  },
  {
   "cell_type": "code",
   "execution_count": null,
   "metadata": {},
   "outputs": [],
   "source": [
    "model5.compile(\n",
    "  optimizer='adam',\n",
    "  loss=keras.losses.binary_crossentropy,\n",
    "  metrics=['accuracy'])"
   ]
  },
  {
   "cell_type": "code",
   "execution_count": null,
   "metadata": {},
   "outputs": [],
   "source": [
    "history = model5.fit( \n",
    "  image,\n",
    "  validation_data=validation_iterator,\n",
    "  epochs=7)"
   ]
  },
  {
   "cell_type": "code",
   "execution_count": null,
   "metadata": {},
   "outputs": [],
   "source": [
    "history = model5.fit( \n",
    "  image,\n",
    "  validation_data=validation_iterator,\n",
    "  epochs=7)"
   ]
  },
  {
   "cell_type": "code",
   "execution_count": null,
   "metadata": {},
   "outputs": [],
   "source": [
    "model2.save('model.h5')"
   ]
  },
  {
   "cell_type": "code",
   "execution_count": null,
   "metadata": {},
   "outputs": [],
   "source": [
    "#Graphical interpretation\n",
    "h = history.history\n",
    "h.keys()\n"
   ]
  },
  {
   "cell_type": "code",
   "execution_count": null,
   "metadata": {},
   "outputs": [],
   "source": [
    "import matplotlib.pyplot as plt\n",
    "plt.plot(h['accuracy'], color = \"blue\")\n",
    "plt.plot(h['val_accuracy'], color = \"pink\")\n",
    "\n",
    "plt.title(\"Accuracy vs Validation Accuracy\")\n",
    "plt.show()"
   ]
  },
  {
   "cell_type": "code",
   "execution_count": null,
   "metadata": {},
   "outputs": [],
   "source": [
    "import matplotlib.pyplot as plt\n",
    "plt.plot(h['loss'], color = \"blue\")\n",
    "plt.plot(h['val_loss'], color = \"pink\")\n",
    "\n",
    "plt.title(\"Loss vs Validation Loss\")\n",
    "plt.show()"
   ]
  },
  {
   "cell_type": "code",
   "execution_count": null,
   "metadata": {},
   "outputs": [],
   "source": [
    "%cd \"/content/drive/MyDrive/pcos-detection-using-ultrasound-images\"\n",
    "model2.save('model.h5')"
   ]
  },
  {
   "cell_type": "code",
   "execution_count": null,
   "metadata": {},
   "outputs": [],
   "source": [
    "from tensorflow import keras\n",
    "from keras.models import load_model\n",
    "model =load_model('/content/drive/MyDrive/pcos-detection-using-ultrasound-images/model.h5')"
   ]
  },
  {
   "cell_type": "code",
   "execution_count": null,
   "metadata": {},
   "outputs": [],
   "source": [
    "accuracy = model.evaluate(validation_iterator)[1]\n",
    "print(f\"The Accuracy of the Model is{accuracy}\")\n",
    "print(f\"The Accuracy of the Model is{accuracy*100}%\")"
   ]
  },
  {
   "cell_type": "code",
   "execution_count": null,
   "metadata": {},
   "outputs": [],
   "source": [
    "from tensorflow.keras.utils import load_img, img_to_array\n",
    "#from keras.preprocessing.image import load_img,img_to_array\n",
    "path = \"/content/gdrive/MyDrive/pcos-detection-using-ultrasound-images/data/test/infected/img_0_1033.jpg\"\n",
    "img = load_img(path, target_size =(224,224))\n",
    "input_array = img_to_array(img)/255 #for image normalization \n",
    "plt.imshow(input_array)\n",
    "plt.show()\n",
    "\n",
    "input_array.shape\n",
    "input_array = np.expand_dims(input_array, axis = 0)\n",
    "\n",
    "#prediction = model.predict_classes(input_array)[0][0]\n",
    "prediction = (model.predict(input_array) > 0.5).astype(\"int32\")\n",
    "prediction\n",
    "if prediction == 0:\n",
    "  print(\"the xray has PCOS\")\n",
    "else:\n",
    "  print(\"the Xray doesnt have PCOS\")\n"
   ]
  },
  {
   "cell_type": "code",
   "execution_count": null,
   "metadata": {},
   "outputs": [],
   "source": [
    "print(prediction)"
   ]
  }
 ],
 "metadata": {
  "kernelspec": {
   "display_name": "cherry",
   "language": "python",
   "name": "python3"
  },
  "language_info": {
   "codemirror_mode": {
    "name": "ipython",
    "version": 3
   },
   "file_extension": ".py",
   "mimetype": "text/x-python",
   "name": "python",
   "nbconvert_exporter": "python",
   "pygments_lexer": "ipython3",
   "version": "3.8.8 (tags/v3.8.8:024d805, Feb 19 2021, 13:18:16) [MSC v.1928 64 bit (AMD64)]"
  },
  "orig_nbformat": 4,
  "vscode": {
   "interpreter": {
    "hash": "f5e52c20d4d074144165da09d051df726b1d751026e7abbc92d01ea0e5245f98"
   }
  }
 },
 "nbformat": 4,
 "nbformat_minor": 2
}
